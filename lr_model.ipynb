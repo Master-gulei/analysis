{
 "cells": [
  {
   "cell_type": "code",
   "execution_count": null,
   "id": "9a9ee9d5",
   "metadata": {},
   "outputs": [],
   "source": [
    "import os\n",
    "import math            \n",
    "import joblib \n",
    "from copy import deepcopy\n",
    "import numpy as np\n",
    "import pandas as pd \n",
    "import seaborn as sbn\n",
    "import matplotlib as mpl\n",
    "from xgboost import plot_importance\n",
    "from sklearn.model_selection import train_test_split\n",
    "from matplotlib import pyplot as plt\n",
    "from multiprocessing import cpu_count\n",
    "import warnings\n",
    "warnings.filterwarnings('ignore')\n",
    "%matplotlib inline  \n",
    "\n",
    "pd.set_option('display.max_rows', None)         # 列展示\n",
    "np.set_printoptions(threshold=np.inf)           # np.inf表示正无穷    \n",
    "sbn.set(style=\"whitegrid\", color_codes=True)    # 设置绘图风格           \n",
    "mpl.rcParams['font.family'] = ['sans-serif']\n",
    "mpl.rcParams['font.sans-serif'] = ['SimHei']    # 正常显示中文标签     \n",
    "mpl.rcParams['axes.unicode_minus'] = False\n",
    "plt.rcParams['figure.figsize'] = (12.0, 10.0)   # 设置图形大小     \n",
    "plt.rcParams['savefig.dpi'] = 500.              # 图片像素          \n",
    "plt.rcParams['figure.dpi'] = 500.               # 分辨率  \n",
    "# print(plt.rcParams.keys())                     # plt参数            "
   ]
  },
  {
   "cell_type": "markdown",
   "id": "5c4c8bec",
   "metadata": {},
   "source": [
    "# 读取数据"
   ]
  },
  {
   "cell_type": "code",
   "execution_count": null,
   "id": "fc319024",
   "metadata": {},
   "outputs": [],
   "source": [
    "df=pd.read_csv(\"./data/model_data.csv\")         # 从已存入路径读取进来"
   ]
  },
  {
   "cell_type": "code",
   "execution_count": null,
   "id": "1070fd74",
   "metadata": {},
   "outputs": [],
   "source": [
    "model_data = deepcopy(df) \n",
    "print('model_data.shape: {}'.format(model_data.shape))  "
   ]
  },
  {
   "cell_type": "code",
   "execution_count": null,
   "id": "d1815190",
   "metadata": {},
   "outputs": [],
   "source": [
    "analysis_cols = list(df.columns)\n",
    "label_col = 'waybill_label'\n",
    "analysis_cols.remove(label_col)"
   ]
  },
  {
   "cell_type": "code",
   "execution_count": null,
   "id": "8d9c9d6f",
   "metadata": {},
   "outputs": [],
   "source": [
    "# 核验数据 (xgboost.core.XGBoostError: Check failed: valid: Input data contains `inf` or `nan`)\n",
    "# 显式声明分类器对missing=np.nan进行处理\n",
    "# print(np.isnan(model_data).any())\n",
    "# print(np.isinf(model_data).any())\n",
    "print(model_data.groupby(label_col)[label_col].count()) \n",
    "print(model_data.dtypes)"
   ]
  },
  {
   "cell_type": "markdown",
   "id": "afce9247",
   "metadata": {},
   "source": [
    "# toad评分"
   ]
  },
  {
   "cell_type": "markdown",
   "id": "82d142a9",
   "metadata": {},
   "source": [
    "## EDA"
   ]
  },
  {
   "cell_type": "code",
   "execution_count": null,
   "id": "7475029d",
   "metadata": {},
   "outputs": [],
   "source": [
    "import toad \n",
    "model_data = model_data.head(100000)     # 测试是否能够运行\n",
    "X = model_data[analysis_cols]\n",
    "y = model_data[label_col]"
   ]
  },
  {
   "cell_type": "code",
   "execution_count": null,
   "id": "c6f1167b",
   "metadata": {},
   "outputs": [],
   "source": [
    "x_detect = toad.detect(X).reset_index()  \n",
    "print(x_detect.shape)\n",
    "print(x_detect.head(2))"
   ]
  },
  {
   "cell_type": "code",
   "execution_count": null,
   "id": "ac4e3b14",
   "metadata": {},
   "outputs": [],
   "source": [
    "# x_detect.to_csv('./output_data/x_detect.csv', index=False)   "
   ]
  },
  {
   "cell_type": "code",
   "execution_count": null,
   "id": "8fc0ef49",
   "metadata": {},
   "outputs": [],
   "source": [
    "quality_analysis = toad.quality(model_data, label_col, iv_only=False)\n",
    "print(quality_analysis[:20])  "
   ]
  },
  {
   "cell_type": "code",
   "execution_count": null,
   "id": "16aa3a39",
   "metadata": {},
   "outputs": [],
   "source": [
    "quality_analysis.to_csv('./output_data/quality_analysis.csv', index=True)    "
   ]
  },
  {
   "cell_type": "markdown",
   "id": "8038483b",
   "metadata": {},
   "source": [
    "## 特征筛选"
   ]
  },
  {
   "cell_type": "code",
   "execution_count": null,
   "id": "39e2aee1",
   "metadata": {},
   "outputs": [],
   "source": [
    "train_selected, dropped = toad.selection.select(model_data, target=label_col, empty=0.8, iv=0.02, corr=0.7, return_drop=False, exclude=None)\n",
    "print(dropped)\n",
    "print(train_selected.shape)     "
   ]
  },
  {
   "cell_type": "markdown",
   "id": "7703ced0",
   "metadata": {},
   "source": [
    "## 分箱"
   ]
  },
  {
   "cell_type": "code",
   "execution_count": null,
   "id": "2d06e4fd",
   "metadata": {},
   "outputs": [],
   "source": [
    "# 支持数值型数据和离散型分箱，默认分箱方法为卡方分箱\n",
    "c = toad.transform.Combiner()\n",
    "# 使用特征筛选后的数据进行训练：使用稳定的卡方分箱，规定每箱至少有5%数据, 空值将自动被归到最佳箱。\n",
    "c.fit(model_data, y=label_col, method='chi', min_samples=0.05)    # empty_separate = False"
   ]
  },
  {
   "cell_type": "code",
   "execution_count": null,
   "id": "bdf67852",
   "metadata": {},
   "outputs": [],
   "source": [
    "print('down_sign_time:\\n', c.export['down_sign_time'])"
   ]
  },
  {
   "cell_type": "code",
   "execution_count": null,
   "id": "51fa109d",
   "metadata": {},
   "outputs": [],
   "source": []
  },
  {
   "cell_type": "markdown",
   "id": "bcb00181",
   "metadata": {},
   "source": []
  },
  {
   "cell_type": "code",
   "execution_count": null,
   "id": "b1763b12",
   "metadata": {},
   "outputs": [],
   "source": []
  },
  {
   "cell_type": "code",
   "execution_count": null,
   "id": "402b57ce",
   "metadata": {},
   "outputs": [],
   "source": []
  },
  {
   "cell_type": "code",
   "execution_count": null,
   "id": "ccc165d7",
   "metadata": {},
   "outputs": [],
   "source": []
  },
  {
   "cell_type": "code",
   "execution_count": null,
   "id": "54297dd2",
   "metadata": {},
   "outputs": [],
   "source": []
  },
  {
   "cell_type": "markdown",
   "id": "b5c25adf",
   "metadata": {},
   "source": [
    "# LR模型"
   ]
  },
  {
   "cell_type": "code",
   "execution_count": null,
   "id": "0d13a73b",
   "metadata": {},
   "outputs": [],
   "source": [
    "## 数据切分\n",
    "X = model_data[analysis_cols]\n",
    "y = model_data['waybill_label'] \n",
    "x_train, x_test, y_train, y_test = train_test_split(X, y, train_size=0.7, random_state=2023)        \n",
    "print(\"x_train.shape: {}\".format(x_train.shape))                                                        \n",
    "print(\"x_test.shape: {}\".format(x_test.shape))  "
   ]
  },
  {
   "cell_type": "code",
   "execution_count": null,
   "id": "678ed2c7",
   "metadata": {},
   "outputs": [],
   "source": []
  },
  {
   "cell_type": "code",
   "execution_count": null,
   "id": "dbb9ce4f",
   "metadata": {},
   "outputs": [],
   "source": []
  },
  {
   "cell_type": "code",
   "execution_count": null,
   "id": "e88c73c7",
   "metadata": {},
   "outputs": [],
   "source": []
  },
  {
   "cell_type": "code",
   "execution_count": null,
   "id": "163cefb4",
   "metadata": {},
   "outputs": [],
   "source": []
  },
  {
   "cell_type": "code",
   "execution_count": null,
   "id": "2a07cea1",
   "metadata": {},
   "outputs": [],
   "source": []
  }
 ],
 "metadata": {
  "kernelspec": {
   "display_name": "Python 3",
   "language": "python",
   "name": "python3"
  },
  "language_info": {
   "codemirror_mode": {
    "name": "ipython",
    "version": 3
   },
   "file_extension": ".py",
   "mimetype": "text/x-python",
   "name": "python",
   "nbconvert_exporter": "python",
   "pygments_lexer": "ipython3",
   "version": "3.8.15"
  },
  "toc": {
   "base_numbering": 1,
   "nav_menu": {},
   "number_sections": true,
   "sideBar": true,
   "skip_h1_title": false,
   "title_cell": "Table of Contents",
   "title_sidebar": "Contents",
   "toc_cell": false,
   "toc_position": {},
   "toc_section_display": true,
   "toc_window_display": false
  },
  "varInspector": {
   "cols": {
    "lenName": 16,
    "lenType": 16,
    "lenVar": 40
   },
   "kernels_config": {
    "python": {
     "delete_cmd_postfix": "",
     "delete_cmd_prefix": "del ",
     "library": "var_list.py",
     "varRefreshCmd": "print(var_dic_list())"
    },
    "r": {
     "delete_cmd_postfix": ") ",
     "delete_cmd_prefix": "rm(",
     "library": "var_list.r",
     "varRefreshCmd": "cat(var_dic_list()) "
    }
   },
   "types_to_exclude": [
    "module",
    "function",
    "builtin_function_or_method",
    "instance",
    "_Feature"
   ],
   "window_display": false
  }
 },
 "nbformat": 4,
 "nbformat_minor": 5
}
